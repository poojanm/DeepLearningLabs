{
  "nbformat": 4,
  "nbformat_minor": 0,
  "metadata": {
    "colab": {
      "name": "DLlabTest-J063.ipynb",
      "provenance": [],
      "collapsed_sections": [],
      "toc_visible": true
    },
    "kernelspec": {
      "name": "python3",
      "display_name": "Python 3"
    },
    "accelerator": "GPU"
  },
  "cells": [
    {
      "cell_type": "code",
      "metadata": {
        "id": "SqDsKyrfxqMr",
        "colab_type": "code",
        "colab": {}
      },
      "source": [
        "from contextlib import suppress\n",
        "import matplotlib\n",
        "import matplotlib.pyplot as plt\n",
        "\n",
        "import numpy as np\n",
        "import os\n",
        "import warnings\n",
        "from zipfile import ZipFile\n",
        "\n",
        "from skimage.io import imread, imsave\n",
        "\n",
        "from keras import applications\n",
        "from keras import optimizers\n",
        "from keras.models import Sequential\n",
        "from keras.layers import Activation, Dense, Dropout, Flatten\n",
        "from keras.utils import to_categorical\n",
        "from keras.preprocessing.image import ImageDataGenerator\n",
        "\n",
        "from sklearn.metrics import accuracy_score, classification_report"
      ],
      "execution_count": 0,
      "outputs": []
    },
    {
      "cell_type": "code",
      "metadata": {
        "id": "h43vUmfh8IjG",
        "colab_type": "code",
        "colab": {}
      },
      "source": [
        "source_dir = '/content/drive/My Drive/data/UCMerced_LandUse/Images'"
      ],
      "execution_count": 0,
      "outputs": []
    },
    {
      "cell_type": "code",
      "metadata": {
        "id": "7nMWrQHG8bSB",
        "colab_type": "code",
        "colab": {}
      },
      "source": [
        "np.random.seed(10)"
      ],
      "execution_count": 0,
      "outputs": []
    },
    {
      "cell_type": "code",
      "metadata": {
        "id": "OYiT8JlO8ihC",
        "colab_type": "code",
        "colab": {}
      },
      "source": [
        "class_names = os.listdir(source_dir)"
      ],
      "execution_count": 0,
      "outputs": []
    },
    {
      "cell_type": "code",
      "metadata": {
        "id": "lNRPWVeG8m5R",
        "colab_type": "code",
        "colab": {}
      },
      "source": [
        "flow_base = '/content/drive/My Drive/data/flow'"
      ],
      "execution_count": 0,
      "outputs": []
    },
    {
      "cell_type": "code",
      "metadata": {
        "id": "E-58EIPL9VLS",
        "colab_type": "code",
        "colab": {}
      },
      "source": [
        "target_dirs = {target: os.path.join(flow_base, target) for target in ['train', 'validate', 'test']}\n",
        "\n",
        "if not os.path.isdir(flow_base):\n",
        "\n",
        "    # Make new directories\n",
        "    os.mkdir(flow_base)\n",
        "    \n",
        "    for target in ['train', 'validate', 'test']:\n",
        "        target_dir = os.path.join(flow_base, target)\n",
        "        os.mkdir(target_dir)\n",
        "        for class_name in class_names:\n",
        "            class_subdir = os.path.join(target_dir, class_name)\n",
        "            os.mkdir(class_subdir)\n",
        "            print(class_subdir)\n",
        "\n",
        "    \n",
        "    # Copy images from ./data/UCMerced_LandUse/Images to ./data/flow/<train, validate, test>    \n",
        "    for root, _, filenames in os.walk(source_dir):\n",
        "        if filenames:\n",
        "            class_name = os.path.basename(root)\n",
        "            print(class_name)\n",
        "            # Randomly shuffle filenames\n",
        "            filenames = np.random.permutation(filenames)\n",
        "            for target, count in [('train', 80), ('validate', 10), ('test', 10)]:\n",
        "                target_dir = os.path.join(flow_base, target, class_name)\n",
        "                for filename in filenames[:count]:\n",
        "                    filepath = os.path.join(root, filename)\n",
        "                    image = imread(filepath)\n",
        "                    basename, _ = os.path.splitext(filename)\n",
        "                    # Convert TIF to PNG to work with Keras ImageDataGenerator.flow_from_directory\n",
        "                    target_filename = os.path.join(target_dir, basename + '.png')\n",
        "                    imsave(target_filename, image)\n",
        "            \n",
        "                filenames = filenames[count:]\n",
        "    "
      ],
      "execution_count": 0,
      "outputs": []
    },
    {
      "cell_type": "code",
      "metadata": {
        "id": "UIR2YA-y9cyI",
        "colab_type": "code",
        "colab": {}
      },
      "source": [
        "means = []\n",
        "for root, _, filenames in os.walk(target_dirs['train']):\n",
        "    for filename in filenames:\n",
        "        filepath = os.path.join(root, filename)\n",
        "        image = imread(filepath)\n",
        "        means.append(np.mean(image, axis=(0, 1)))\n",
        "channel_means = np.mean(means, axis=0)"
      ],
      "execution_count": 0,
      "outputs": []
    },
    {
      "cell_type": "code",
      "metadata": {
        "id": "mTiMVk06MY9B",
        "colab_type": "code",
        "colab": {
          "base_uri": "https://localhost:8080/",
          "height": 54
        },
        "outputId": "b1828b37-b9a3-4a4d-fca5-4f36ef8b6a48"
      },
      "source": [
        "print(channel_means)"
      ],
      "execution_count": 14,
      "outputs": [
        {
          "output_type": "stream",
          "text": [
            "[123.35835817 124.90106496 114.83472256]\n"
          ],
          "name": "stdout"
        }
      ]
    },
    {
      "cell_type": "code",
      "metadata": {
        "id": "LRIhQ334PBnx",
        "colab_type": "code",
        "colab": {
          "base_uri": "https://localhost:8080/",
          "height": 54
        },
        "outputId": "b45ead2a-4feb-4625-a30c-b9de234905d6"
      },
      "source": [
        "print(filenames)"
      ],
      "execution_count": 22,
      "outputs": [
        {
          "output_type": "stream",
          "text": [
            "['mediumresidential45.png', 'mediumresidential99.png', 'mediumresidential39.png', 'mediumresidential37.png', 'mediumresidential90.png', 'mediumresidential95.png', 'mediumresidential26.png', 'mediumresidential65.png', 'mediumresidential78.png', 'mediumresidential00.png', 'mediumresidential24.png', 'mediumresidential60.png', 'mediumresidential49.png', 'mediumresidential44.png', 'mediumresidential34.png', 'mediumresidential86.png', 'mediumresidential76.png', 'mediumresidential97.png', 'mediumresidential16.png', 'mediumresidential75.png', 'mediumresidential69.png', 'mediumresidential22.png', 'mediumresidential84.png', 'mediumresidential79.png', 'mediumresidential54.png', 'mediumresidential08.png', 'mediumresidential15.png', 'mediumresidential19.png', 'mediumresidential28.png', 'mediumresidential91.png', 'mediumresidential03.png', 'mediumresidential31.png', 'mediumresidential10.png', 'mediumresidential09.png', 'mediumresidential62.png', 'mediumresidential83.png', 'mediumresidential04.png', 'mediumresidential30.png', 'mediumresidential02.png', 'mediumresidential01.png', 'mediumresidential85.png', 'mediumresidential48.png', 'mediumresidential58.png', 'mediumresidential33.png', 'mediumresidential72.png', 'mediumresidential12.png', 'mediumresidential11.png', 'mediumresidential17.png', 'mediumresidential05.png', 'mediumresidential63.png', 'mediumresidential36.png', 'mediumresidential77.png', 'mediumresidential50.png', 'mediumresidential74.png', 'mediumresidential23.png', 'mediumresidential89.png', 'mediumresidential13.png', 'mediumresidential80.png', 'mediumresidential35.png', 'mediumresidential71.png', 'mediumresidential92.png', 'mediumresidential59.png', 'mediumresidential52.png', 'mediumresidential98.png', 'mediumresidential43.png', 'mediumresidential32.png', 'mediumresidential38.png', 'mediumresidential88.png', 'mediumresidential06.png', 'mediumresidential29.png', 'mediumresidential18.png', 'mediumresidential96.png', 'mediumresidential66.png', 'mediumresidential82.png', 'mediumresidential94.png', 'mediumresidential56.png', 'mediumresidential42.png', 'mediumresidential53.png', 'mediumresidential70.png', 'mediumresidential40.png']\n"
          ],
          "name": "stdout"
        }
      ]
    },
    {
      "cell_type": "code",
      "metadata": {
        "id": "O-O6Bi_q9nEJ",
        "colab_type": "code",
        "colab": {}
      },
      "source": [
        "def get_bottleneck_features(model, dataset, preproc_func, batch_size=64):\n",
        "\n",
        "\n",
        "  image_data_gen = ImageDataGenerator(rescale=1/255.0, preprocessing_function=preproc_func)\n",
        "  image_generator = image_data_gen.flow_from_directory(target_dirs[dataset],\n",
        "                                                             batch_size=batch_size,\n",
        "                                                             shuffle=False\n",
        "                                                             )\n",
        "  image_count = 0\n",
        "  X_batches, Y_batches = [], []\n",
        "  for X, Y in image_generator:\n",
        "    X_batches.append(model.predict_on_batch(X))\n",
        "    Y_batches.append(Y)\n",
        "    image_count += X.shape[0]\n",
        "    # Must interrupt image_generator\n",
        "    if image_count >= image_generator.n:\n",
        "      break\n",
        "\n",
        "  X = np.concatenate(X_batches)\n",
        "  Y = np.concatenate(Y_batches)\n",
        "\n",
        "  return X, Y"
      ],
      "execution_count": 0,
      "outputs": []
    },
    {
      "cell_type": "code",
      "metadata": {
        "id": "NbTndcE795ii",
        "colab_type": "code",
        "colab": {
          "base_uri": "https://localhost:8080/",
          "height": 401
        },
        "outputId": "26e60583-10a9-449d-b587-834614ee4b38"
      },
      "source": [
        "# Let's try the VGG16 model\n",
        "pretrained_model = applications.VGG16(include_top=False, weights='imagenet')"
      ],
      "execution_count": 10,
      "outputs": [
        {
          "output_type": "stream",
          "text": [
            "WARNING:tensorflow:From /usr/local/lib/python3.6/dist-packages/keras/backend/tensorflow_backend.py:66: The name tf.get_default_graph is deprecated. Please use tf.compat.v1.get_default_graph instead.\n",
            "\n",
            "WARNING:tensorflow:From /usr/local/lib/python3.6/dist-packages/keras/backend/tensorflow_backend.py:541: The name tf.placeholder is deprecated. Please use tf.compat.v1.placeholder instead.\n",
            "\n",
            "WARNING:tensorflow:From /usr/local/lib/python3.6/dist-packages/keras/backend/tensorflow_backend.py:4432: The name tf.random_uniform is deprecated. Please use tf.random.uniform instead.\n",
            "\n",
            "WARNING:tensorflow:From /usr/local/lib/python3.6/dist-packages/keras/backend/tensorflow_backend.py:4267: The name tf.nn.max_pool is deprecated. Please use tf.nn.max_pool2d instead.\n",
            "\n",
            "Downloading data from https://github.com/fchollet/deep-learning-models/releases/download/v0.1/vgg16_weights_tf_dim_ordering_tf_kernels_notop.h5\n",
            "58892288/58889256 [==============================] - 2s 0us/step\n",
            "WARNING:tensorflow:From /usr/local/lib/python3.6/dist-packages/keras/backend/tensorflow_backend.py:190: The name tf.get_default_session is deprecated. Please use tf.compat.v1.get_default_session instead.\n",
            "\n",
            "WARNING:tensorflow:From /usr/local/lib/python3.6/dist-packages/keras/backend/tensorflow_backend.py:197: The name tf.ConfigProto is deprecated. Please use tf.compat.v1.ConfigProto instead.\n",
            "\n",
            "WARNING:tensorflow:From /usr/local/lib/python3.6/dist-packages/keras/backend/tensorflow_backend.py:203: The name tf.Session is deprecated. Please use tf.compat.v1.Session instead.\n",
            "\n",
            "WARNING:tensorflow:From /usr/local/lib/python3.6/dist-packages/keras/backend/tensorflow_backend.py:207: The name tf.global_variables is deprecated. Please use tf.compat.v1.global_variables instead.\n",
            "\n",
            "WARNING:tensorflow:From /usr/local/lib/python3.6/dist-packages/keras/backend/tensorflow_backend.py:216: The name tf.is_variable_initialized is deprecated. Please use tf.compat.v1.is_variable_initialized instead.\n",
            "\n",
            "WARNING:tensorflow:From /usr/local/lib/python3.6/dist-packages/keras/backend/tensorflow_backend.py:223: The name tf.variables_initializer is deprecated. Please use tf.compat.v1.variables_initializer instead.\n",
            "\n"
          ],
          "name": "stdout"
        }
      ]
    },
    {
      "cell_type": "code",
      "metadata": {
        "id": "fpiAYunj978A",
        "colab_type": "code",
        "colab": {
          "base_uri": "https://localhost:8080/",
          "height": 87
        },
        "outputId": "fe232b6d-e711-4deb-fc71-4d4cad12aede"
      },
      "source": [
        "num_classes = len(class_names)\n",
        "X, Y = dict(), dict()\n",
        "preprocess = lambda x: x - channel_means\n",
        "for dataset in ['train', 'validate', 'test']:\n",
        "    # Extract bottleneck features from pretrained model, predicting from \"dataset\" directory\n",
        "    X[dataset], Y[dataset] = get_bottleneck_features(pretrained_model, dataset, preprocess)"
      ],
      "execution_count": 26,
      "outputs": [
        {
          "output_type": "stream",
          "text": [
            "Found 1680 images belonging to 21 classes.\n",
            "Found 210 images belonging to 21 classes.\n",
            "Found 210 images belonging to 21 classes.\n"
          ],
          "name": "stdout"
        }
      ]
    },
    {
      "cell_type": "code",
      "metadata": {
        "id": "tDMcXuz2-C9b",
        "colab_type": "code",
        "colab": {}
      },
      "source": [
        "def build_fully_connected(input_shape, num_classes):\n",
        "\n",
        "    model = Sequential()\n",
        "    model.add(Flatten(input_shape=input_shape))\n",
        "    model.add(Dense(256))\n",
        "    model.add(Activation('relu'))\n",
        "    model.add(Dropout(0.5))\n",
        "    model.add(Dense(num_classes, activation='softmax'))\n",
        "    return model"
      ],
      "execution_count": 0,
      "outputs": []
    },
    {
      "cell_type": "code",
      "metadata": {
        "id": "nK1SbXgtHGLU",
        "colab_type": "code",
        "colab": {
          "base_uri": "https://localhost:8080/",
          "height": 1000
        },
        "outputId": "f4bf6dba-5261-493e-f929-437464b422f4"
      },
      "source": [
        "# Build, compile, and fit the model\n",
        "model = build_fully_connected(input_shape=X['train'].shape[1:], num_classes=num_classes)\n",
        "adam = optimizers.Adam(lr=0.0001)\n",
        "model.compile(optimizer=adam, loss='categorical_crossentropy', metrics=['accuracy'])\n",
        "model_fit_history = model.fit(X['train'], Y['train'], batch_size=64, epochs=50,\n",
        "                              verbose=2, validation_data=(X['validate'], Y['validate']))"
      ],
      "execution_count": 28,
      "outputs": [
        {
          "output_type": "stream",
          "text": [
            "WARNING:tensorflow:From /usr/local/lib/python3.6/dist-packages/keras/backend/tensorflow_backend.py:148: The name tf.placeholder_with_default is deprecated. Please use tf.compat.v1.placeholder_with_default instead.\n",
            "\n",
            "WARNING:tensorflow:From /usr/local/lib/python3.6/dist-packages/keras/backend/tensorflow_backend.py:3733: calling dropout (from tensorflow.python.ops.nn_ops) with keep_prob is deprecated and will be removed in a future version.\n",
            "Instructions for updating:\n",
            "Please use `rate` instead of `keep_prob`. Rate should be set to `rate = 1 - keep_prob`.\n",
            "WARNING:tensorflow:From /usr/local/lib/python3.6/dist-packages/keras/optimizers.py:793: The name tf.train.Optimizer is deprecated. Please use tf.compat.v1.train.Optimizer instead.\n",
            "\n",
            "WARNING:tensorflow:From /usr/local/lib/python3.6/dist-packages/keras/backend/tensorflow_backend.py:3576: The name tf.log is deprecated. Please use tf.math.log instead.\n",
            "\n",
            "WARNING:tensorflow:From /usr/local/lib/python3.6/dist-packages/tensorflow_core/python/ops/math_grad.py:1424: where (from tensorflow.python.ops.array_ops) is deprecated and will be removed in a future version.\n",
            "Instructions for updating:\n",
            "Use tf.where in 2.0, which has the same broadcast rule as np.where\n",
            "WARNING:tensorflow:From /usr/local/lib/python3.6/dist-packages/keras/backend/tensorflow_backend.py:1033: The name tf.assign_add is deprecated. Please use tf.compat.v1.assign_add instead.\n",
            "\n",
            "WARNING:tensorflow:From /usr/local/lib/python3.6/dist-packages/keras/backend/tensorflow_backend.py:1020: The name tf.assign is deprecated. Please use tf.compat.v1.assign instead.\n",
            "\n",
            "Train on 1680 samples, validate on 210 samples\n",
            "Epoch 1/50\n",
            " - 1s - loss: 2.2724 - acc: 0.3452 - val_loss: 1.1514 - val_acc: 0.7476\n",
            "Epoch 2/50\n",
            " - 0s - loss: 1.0989 - acc: 0.6762 - val_loss: 0.7422 - val_acc: 0.8381\n",
            "Epoch 3/50\n",
            " - 0s - loss: 0.7332 - acc: 0.8030 - val_loss: 0.6271 - val_acc: 0.8667\n",
            "Epoch 4/50\n",
            " - 0s - loss: 0.5087 - acc: 0.8762 - val_loss: 0.5134 - val_acc: 0.8810\n",
            "Epoch 5/50\n",
            " - 0s - loss: 0.4028 - acc: 0.9012 - val_loss: 0.4667 - val_acc: 0.8714\n",
            "Epoch 6/50\n",
            " - 0s - loss: 0.3071 - acc: 0.9280 - val_loss: 0.4019 - val_acc: 0.9048\n",
            "Epoch 7/50\n",
            " - 0s - loss: 0.2475 - acc: 0.9518 - val_loss: 0.3755 - val_acc: 0.9048\n",
            "Epoch 8/50\n",
            " - 0s - loss: 0.2052 - acc: 0.9613 - val_loss: 0.3503 - val_acc: 0.9000\n",
            "Epoch 9/50\n",
            " - 0s - loss: 0.1805 - acc: 0.9673 - val_loss: 0.3534 - val_acc: 0.8810\n",
            "Epoch 10/50\n",
            " - 0s - loss: 0.1391 - acc: 0.9756 - val_loss: 0.3343 - val_acc: 0.9048\n",
            "Epoch 11/50\n",
            " - 0s - loss: 0.1324 - acc: 0.9774 - val_loss: 0.3329 - val_acc: 0.9000\n",
            "Epoch 12/50\n",
            " - 0s - loss: 0.1039 - acc: 0.9863 - val_loss: 0.2889 - val_acc: 0.8952\n",
            "Epoch 13/50\n",
            " - 0s - loss: 0.0958 - acc: 0.9899 - val_loss: 0.2942 - val_acc: 0.9048\n",
            "Epoch 14/50\n",
            " - 0s - loss: 0.0867 - acc: 0.9929 - val_loss: 0.2938 - val_acc: 0.9095\n",
            "Epoch 15/50\n",
            " - 0s - loss: 0.0755 - acc: 0.9940 - val_loss: 0.2878 - val_acc: 0.9000\n",
            "Epoch 16/50\n",
            " - 0s - loss: 0.0638 - acc: 0.9976 - val_loss: 0.2926 - val_acc: 0.9000\n",
            "Epoch 17/50\n",
            " - 0s - loss: 0.0591 - acc: 0.9929 - val_loss: 0.2883 - val_acc: 0.9143\n",
            "Epoch 18/50\n",
            " - 0s - loss: 0.0568 - acc: 0.9935 - val_loss: 0.2817 - val_acc: 0.9048\n",
            "Epoch 19/50\n",
            " - 0s - loss: 0.0541 - acc: 0.9935 - val_loss: 0.2955 - val_acc: 0.8952\n",
            "Epoch 20/50\n",
            " - 0s - loss: 0.0442 - acc: 0.9970 - val_loss: 0.2478 - val_acc: 0.9238\n",
            "Epoch 21/50\n",
            " - 0s - loss: 0.0417 - acc: 0.9952 - val_loss: 0.2568 - val_acc: 0.9143\n",
            "Epoch 22/50\n",
            " - 0s - loss: 0.0426 - acc: 0.9958 - val_loss: 0.2699 - val_acc: 0.9000\n",
            "Epoch 23/50\n",
            " - 0s - loss: 0.0381 - acc: 0.9970 - val_loss: 0.2816 - val_acc: 0.9048\n",
            "Epoch 24/50\n",
            " - 0s - loss: 0.0367 - acc: 0.9964 - val_loss: 0.2747 - val_acc: 0.9095\n",
            "Epoch 25/50\n",
            " - 0s - loss: 0.0304 - acc: 0.9982 - val_loss: 0.2540 - val_acc: 0.9238\n",
            "Epoch 26/50\n",
            " - 0s - loss: 0.0318 - acc: 0.9982 - val_loss: 0.2729 - val_acc: 0.9143\n",
            "Epoch 27/50\n",
            " - 0s - loss: 0.0272 - acc: 0.9970 - val_loss: 0.2609 - val_acc: 0.9238\n",
            "Epoch 28/50\n",
            " - 0s - loss: 0.0261 - acc: 0.9982 - val_loss: 0.2488 - val_acc: 0.9048\n",
            "Epoch 29/50\n",
            " - 0s - loss: 0.0251 - acc: 0.9982 - val_loss: 0.2642 - val_acc: 0.9143\n",
            "Epoch 30/50\n",
            " - 0s - loss: 0.0245 - acc: 0.9988 - val_loss: 0.2742 - val_acc: 0.9143\n",
            "Epoch 31/50\n",
            " - 0s - loss: 0.0229 - acc: 0.9994 - val_loss: 0.2394 - val_acc: 0.9143\n",
            "Epoch 32/50\n",
            " - 0s - loss: 0.0231 - acc: 0.9982 - val_loss: 0.2684 - val_acc: 0.9048\n",
            "Epoch 33/50\n",
            " - 0s - loss: 0.0166 - acc: 1.0000 - val_loss: 0.2487 - val_acc: 0.9190\n",
            "Epoch 34/50\n",
            " - 0s - loss: 0.0202 - acc: 0.9994 - val_loss: 0.2424 - val_acc: 0.9095\n",
            "Epoch 35/50\n",
            " - 0s - loss: 0.0210 - acc: 0.9988 - val_loss: 0.2494 - val_acc: 0.9095\n",
            "Epoch 36/50\n",
            " - 0s - loss: 0.0192 - acc: 0.9988 - val_loss: 0.2844 - val_acc: 0.9143\n",
            "Epoch 37/50\n",
            " - 0s - loss: 0.0160 - acc: 0.9988 - val_loss: 0.2510 - val_acc: 0.9000\n",
            "Epoch 38/50\n",
            " - 0s - loss: 0.0153 - acc: 0.9994 - val_loss: 0.2529 - val_acc: 0.9000\n",
            "Epoch 39/50\n",
            " - 0s - loss: 0.0186 - acc: 0.9976 - val_loss: 0.2532 - val_acc: 0.9048\n",
            "Epoch 40/50\n",
            " - 0s - loss: 0.0136 - acc: 0.9994 - val_loss: 0.2460 - val_acc: 0.9190\n",
            "Epoch 41/50\n",
            " - 0s - loss: 0.0168 - acc: 0.9988 - val_loss: 0.2328 - val_acc: 0.9048\n",
            "Epoch 42/50\n",
            " - 0s - loss: 0.0139 - acc: 0.9994 - val_loss: 0.2541 - val_acc: 0.9048\n",
            "Epoch 43/50\n",
            " - 0s - loss: 0.0122 - acc: 1.0000 - val_loss: 0.2430 - val_acc: 0.9048\n",
            "Epoch 44/50\n",
            " - 0s - loss: 0.0117 - acc: 1.0000 - val_loss: 0.2507 - val_acc: 0.9143\n",
            "Epoch 45/50\n",
            " - 0s - loss: 0.0114 - acc: 1.0000 - val_loss: 0.2464 - val_acc: 0.9095\n",
            "Epoch 46/50\n",
            " - 0s - loss: 0.0101 - acc: 0.9994 - val_loss: 0.2533 - val_acc: 0.9143\n",
            "Epoch 47/50\n",
            " - 0s - loss: 0.0109 - acc: 0.9994 - val_loss: 0.2465 - val_acc: 0.9143\n",
            "Epoch 48/50\n",
            " - 0s - loss: 0.0097 - acc: 1.0000 - val_loss: 0.2590 - val_acc: 0.9095\n",
            "Epoch 49/50\n",
            " - 0s - loss: 0.0092 - acc: 1.0000 - val_loss: 0.2523 - val_acc: 0.9048\n",
            "Epoch 50/50\n",
            " - 0s - loss: 0.0096 - acc: 0.9994 - val_loss: 0.2557 - val_acc: 0.9048\n"
          ],
          "name": "stdout"
        }
      ]
    },
    {
      "cell_type": "code",
      "metadata": {
        "id": "TQucrK8lHIRw",
        "colab_type": "code",
        "colab": {
          "base_uri": "https://localhost:8080/",
          "height": 396
        },
        "outputId": "355eb9d8-980f-4ad9-a458-48139d79e1e1"
      },
      "source": [
        "matplotlib.style.use('seaborn')\n",
        "epochs = len(model_fit_history.history['loss'])\n",
        "max_loss = max(max(model_fit_history.history['loss']), max(model_fit_history.history['val_loss']))\n",
        "plt.axis([0, epochs+1, 0, round(max_loss * 2.0) / 2 + 0.5])\n",
        "x = np.arange(1, epochs+1)\n",
        "plt.plot(x, model_fit_history.history['loss'])\n",
        "plt.plot(x, model_fit_history.history['val_loss'])\n",
        "plt.title('Training loss vs. Validation loss')\n",
        "plt.ylabel('Loss')\n",
        "plt.xlabel('Epoch')\n",
        "plt.legend(['Training', 'Validation'], loc='right')\n",
        "plt.show()"
      ],
      "execution_count": 29,
      "outputs": [
        {
          "output_type": "display_data",
          "data": {
            "image/png": "[encoded data removed]",
            "text/plain": [
              "<Figure size 576x396 with 1 Axes>"
            ]
          },
          "metadata": {
            "tags": []
          }
        }
      ]
    },
    {
      "cell_type": "code",
      "metadata": {
        "id": "hYU369CMHKJw",
        "colab_type": "code",
        "colab": {
          "base_uri": "https://localhost:8080/",
          "height": 396
        },
        "outputId": "4407250e-f5c5-4da5-a430-7149c1be636d"
      },
      "source": [
        "matplotlib.style.use('seaborn')\n",
        "epochs = len(model_fit_history.history['acc'])\n",
        "plt.axis([0, epochs+1, 0, 1.2])\n",
        "x = np.arange(1, epochs+1)\n",
        "plt.plot(x, model_fit_history.history['acc'])\n",
        "plt.plot(x, model_fit_history.history['val_acc'])\n",
        "plt.title('Training accuracy vs. Validation accuracy')\n",
        "plt.ylabel('Accuracy')\n",
        "plt.xlabel('Epoch')\n",
        "plt.legend(['Training', 'Validation'], loc='right')\n",
        "plt.show()"
      ],
      "execution_count": 30,
      "outputs": [
        {
          "output_type": "display_data",
          "data": {
            "image/png": "[encoded data removed]",
            "text/plain": [
              "<Figure size 576x396 with 1 Axes>"
            ]
          },
          "metadata": {
            "tags": []
          }
        }
      ]
    },
    {
      "cell_type": "code",
      "metadata": {
        "id": "RJV-djcbHNat",
        "colab_type": "code",
        "colab": {
          "base_uri": "https://localhost:8080/",
          "height": 54
        },
        "outputId": "b5296bc2-ffed-486e-f5e4-530cbf3d1176"
      },
      "source": [
        "epochs = np.argmin(model_fit_history.history['val_loss']) + 1\n",
        "print(f'Stop training at {epochs} epochs')\n",
        "\n",
        "# Merge training and validation data\n",
        "X_train = np.concatenate([X['train'], X['validate']])\n",
        "Y_train = np.concatenate([Y['train'], Y['validate']])\n",
        "\n",
        "# Randomly shuffle X and Y\n",
        "shuffle_index = np.random.permutation(len(X_train))\n",
        "X_train = X_train[shuffle_index]\n",
        "Y_train = Y_train[shuffle_index]\n",
        "model = build_fully_connected(input_shape=X_train.shape[1:], num_classes=num_classes)\n",
        "model.compile(optimizer=adam, loss='categorical_crossentropy', metrics=['accuracy'])\n",
        "model_fit_history = model.fit(X_train, Y_train, batch_size=64, epochs=epochs, verbose=0)"
      ],
      "execution_count": 31,
      "outputs": [
        {
          "output_type": "stream",
          "text": [
            "Stop training at 41 epochs\n"
          ],
          "name": "stdout"
        }
      ]
    },
    {
      "cell_type": "code",
      "metadata": {
        "id": "IOzIFfdJHRBg",
        "colab_type": "code",
        "colab": {}
      },
      "source": [
        "# Predict on the test images\n",
        "y_pred = model.predict_classes(X['test'], verbose=0)"
      ],
      "execution_count": 0,
      "outputs": []
    },
    {
      "cell_type": "code",
      "metadata": {
        "id": "v6DMDIJYHSy_",
        "colab_type": "code",
        "colab": {
          "base_uri": "https://localhost:8080/",
          "height": 550
        },
        "outputId": "07a781cc-4f1f-4df5-92be-9e72be80b6e6"
      },
      "source": [
        "# Flatten Y into a vector\n",
        "y_test = np.nonzero(Y['test'])[1]\n",
        "accuracy = accuracy_score(y_test, y_pred)\n",
        "print(f'Model predication accuracy: {accuracy:.3f}')\n",
        "print(f'\\nClassification report:\\n {classification_report(y_test, y_pred)}')"
      ],
      "execution_count": 33,
      "outputs": [
        {
          "output_type": "stream",
          "text": [
            "Model predication accuracy: 0.886\n",
            "\n",
            "Classification report:\n",
            "               precision    recall  f1-score   support\n",
            "\n",
            "           0       1.00      1.00      1.00        10\n",
            "           1       1.00      1.00      1.00        10\n",
            "           2       0.89      0.80      0.84        10\n",
            "           3       0.91      1.00      0.95        10\n",
            "           4       0.89      0.80      0.84        10\n",
            "           5       1.00      1.00      1.00        10\n",
            "           6       0.33      0.30      0.32        10\n",
            "           7       0.91      1.00      0.95        10\n",
            "           8       0.83      1.00      0.91        10\n",
            "           9       0.90      0.90      0.90        10\n",
            "          10       1.00      1.00      1.00        10\n",
            "          11       0.83      1.00      0.91        10\n",
            "          12       0.58      0.70      0.64        10\n",
            "          13       0.88      0.70      0.78        10\n",
            "          14       1.00      0.80      0.89        10\n",
            "          15       1.00      1.00      1.00        10\n",
            "          16       0.91      1.00      0.95        10\n",
            "          17       1.00      1.00      1.00        10\n",
            "          18       0.91      1.00      0.95        10\n",
            "          19       0.89      0.80      0.84        10\n",
            "          20       1.00      0.80      0.89        10\n",
            "\n",
            "    accuracy                           0.89       210\n",
            "   macro avg       0.89      0.89      0.88       210\n",
            "weighted avg       0.89      0.89      0.88       210\n",
            "\n"
          ],
          "name": "stdout"
        }
      ]
    },
    {
      "cell_type": "code",
      "metadata": {
        "id": "jl0QSArlHUky",
        "colab_type": "code",
        "colab": {
          "base_uri": "https://localhost:8080/",
          "height": 253
        },
        "outputId": "97c84981-bcc2-4410-aee9-638da808a07c"
      },
      "source": [
        "y_pred"
      ],
      "execution_count": 34,
      "outputs": [
        {
          "output_type": "execute_result",
          "data": {
            "text/plain": [
              "array([ 0,  0,  0,  0,  0,  0,  0,  0,  0,  0,  1,  1,  1,  1,  1,  1,  1,\n",
              "        1,  1,  1,  2,  2,  2,  2,  2,  4,  2,  2,  3,  2,  3,  3,  3,  3,\n",
              "        3,  3,  3,  3,  3,  3,  4,  6,  4,  4,  4,  4,  4, 19,  4,  4,  5,\n",
              "        5,  5,  5,  5,  5,  5,  5,  5,  5,  6, 12,  6, 12, 13,  6, 12, 11,\n",
              "       11, 12,  7,  7,  7,  7,  7,  7,  7,  7,  7,  7,  8,  8,  8,  8,  8,\n",
              "        8,  8,  8,  8,  8,  9, 16,  9,  9,  9,  9,  9,  9,  9,  9, 10, 10,\n",
              "       10, 10, 10, 10, 10, 10, 10, 10, 11, 11, 11, 11, 11, 11, 11, 11, 11,\n",
              "       11, 12, 18, 12, 12, 12, 12,  6,  6, 12, 12, 13,  6,  6,  6, 13, 13,\n",
              "       13, 13, 13, 13,  8, 14, 14, 14,  8, 14, 14, 14, 14, 14, 15, 15, 15,\n",
              "       15, 15, 15, 15, 15, 15, 15, 16, 16, 16, 16, 16, 16, 16, 16, 16, 16,\n",
              "       17, 17, 17, 17, 17, 17, 17, 17, 17, 17, 18, 18, 18, 18, 18, 18, 18,\n",
              "       18, 18, 18, 19, 19, 19, 19,  9, 19, 19,  7, 19, 19, 12, 20, 20, 20,\n",
              "       20, 20, 20, 20, 20,  2])"
            ]
          },
          "metadata": {
            "tags": []
          },
          "execution_count": 34
        }
      ]
    },
    {
      "cell_type": "code",
      "metadata": {
        "id": "HSN3XeuwRsaX",
        "colab_type": "code",
        "colab": {
          "base_uri": "https://localhost:8080/",
          "height": 732
        },
        "outputId": "aebfec95-c0ed-4cba-ed8c-1adf72e3e79f"
      },
      "source": [
        "from sklearn.metrics import confusion_matrix\n",
        "confusion_matrix(y_test, y_pred)"
      ],
      "execution_count": 35,
      "outputs": [
        {
          "output_type": "execute_result",
          "data": {
            "text/plain": [
              "array([[10,  0,  0,  0,  0,  0,  0,  0,  0,  0,  0,  0,  0,  0,  0,  0,\n",
              "         0,  0,  0,  0,  0],\n",
              "       [ 0, 10,  0,  0,  0,  0,  0,  0,  0,  0,  0,  0,  0,  0,  0,  0,\n",
              "         0,  0,  0,  0,  0],\n",
              "       [ 0,  0,  8,  1,  1,  0,  0,  0,  0,  0,  0,  0,  0,  0,  0,  0,\n",
              "         0,  0,  0,  0,  0],\n",
              "       [ 0,  0,  0, 10,  0,  0,  0,  0,  0,  0,  0,  0,  0,  0,  0,  0,\n",
              "         0,  0,  0,  0,  0],\n",
              "       [ 0,  0,  0,  0,  8,  0,  1,  0,  0,  0,  0,  0,  0,  0,  0,  0,\n",
              "         0,  0,  0,  1,  0],\n",
              "       [ 0,  0,  0,  0,  0, 10,  0,  0,  0,  0,  0,  0,  0,  0,  0,  0,\n",
              "         0,  0,  0,  0,  0],\n",
              "       [ 0,  0,  0,  0,  0,  0,  3,  0,  0,  0,  0,  2,  4,  1,  0,  0,\n",
              "         0,  0,  0,  0,  0],\n",
              "       [ 0,  0,  0,  0,  0,  0,  0, 10,  0,  0,  0,  0,  0,  0,  0,  0,\n",
              "         0,  0,  0,  0,  0],\n",
              "       [ 0,  0,  0,  0,  0,  0,  0,  0, 10,  0,  0,  0,  0,  0,  0,  0,\n",
              "         0,  0,  0,  0,  0],\n",
              "       [ 0,  0,  0,  0,  0,  0,  0,  0,  0,  9,  0,  0,  0,  0,  0,  0,\n",
              "         1,  0,  0,  0,  0],\n",
              "       [ 0,  0,  0,  0,  0,  0,  0,  0,  0,  0, 10,  0,  0,  0,  0,  0,\n",
              "         0,  0,  0,  0,  0],\n",
              "       [ 0,  0,  0,  0,  0,  0,  0,  0,  0,  0,  0, 10,  0,  0,  0,  0,\n",
              "         0,  0,  0,  0,  0],\n",
              "       [ 0,  0,  0,  0,  0,  0,  2,  0,  0,  0,  0,  0,  7,  0,  0,  0,\n",
              "         0,  0,  1,  0,  0],\n",
              "       [ 0,  0,  0,  0,  0,  0,  3,  0,  0,  0,  0,  0,  0,  7,  0,  0,\n",
              "         0,  0,  0,  0,  0],\n",
              "       [ 0,  0,  0,  0,  0,  0,  0,  0,  2,  0,  0,  0,  0,  0,  8,  0,\n",
              "         0,  0,  0,  0,  0],\n",
              "       [ 0,  0,  0,  0,  0,  0,  0,  0,  0,  0,  0,  0,  0,  0,  0, 10,\n",
              "         0,  0,  0,  0,  0],\n",
              "       [ 0,  0,  0,  0,  0,  0,  0,  0,  0,  0,  0,  0,  0,  0,  0,  0,\n",
              "        10,  0,  0,  0,  0],\n",
              "       [ 0,  0,  0,  0,  0,  0,  0,  0,  0,  0,  0,  0,  0,  0,  0,  0,\n",
              "         0, 10,  0,  0,  0],\n",
              "       [ 0,  0,  0,  0,  0,  0,  0,  0,  0,  0,  0,  0,  0,  0,  0,  0,\n",
              "         0,  0, 10,  0,  0],\n",
              "       [ 0,  0,  0,  0,  0,  0,  0,  1,  0,  1,  0,  0,  0,  0,  0,  0,\n",
              "         0,  0,  0,  8,  0],\n",
              "       [ 0,  0,  1,  0,  0,  0,  0,  0,  0,  0,  0,  0,  1,  0,  0,  0,\n",
              "         0,  0,  0,  0,  8]])"
            ]
          },
          "metadata": {
            "tags": []
          },
          "execution_count": 35
        }
      ]
    },
    {
      "cell_type": "code",
      "metadata": {
        "id": "IFlDM_VUR9-z",
        "colab_type": "code",
        "colab": {}
      },
      "source": [
        ""
      ],
      "execution_count": 0,
      "outputs": []
    }
  ]
}