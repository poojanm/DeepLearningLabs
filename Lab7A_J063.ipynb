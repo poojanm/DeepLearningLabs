{
  "nbformat": 4,
  "nbformat_minor": 0,
  "metadata": {
    "colab": {
      "name": "Lab7A-J063.ipynb",
      "provenance": [],
      "private_outputs": true,
      "collapsed_sections": [],
      "machine_shape": "hm"
    },
    "kernelspec": {
      "name": "python3",
      "display_name": "Python 3"
    },
    "accelerator": "GPU"
  },
  "cells": [
    {
      "cell_type": "markdown",
      "metadata": {
        "id": "1EKwXmlxj0WY",
        "colab_type": "text"
      },
      "source": [
        "#How to get Images from ImageNet with Python in Google Colaboratory\n",
        "\n",
        "The first step to train a model for image recognition is finding images that belong to the desired class (or classes), and ImageNet is very useful for this because it currently has 14,197,122 images with 21841 synsets indexed. ImageNet aims to provide on average 1000 images to illustrate each one of their 100,000 synsets, the majority of the synsets are nouns (80.000+).\n",
        "\n",
        "For instance if the synset needed is pictures of ships it can be found by searching for ship on the imagenet website and the result will be the following page which has the wnid: n04194289"
      ]
    },
    {
      "cell_type": "markdown",
      "metadata": {
        "id": "Lz42zfTtkKKQ",
        "colab_type": "text"
      },
      "source": [
        "#Get the list of URLs for the images of the synset:\n",
        "\n",
        "Said list of URLs can be downloaded from the URL http://www.image-net.org/api/text/imagenet.synset.geturls?wnid= followed by the wnid so in the case of ships it would be “http://www.image-net.org/api/text/imagenet.synset.geturls?wnid=n04194289\" this can be done with the Python library BeautifulSoup:"
      ]
    },
    {
      "cell_type": "code",
      "metadata": {
        "id": "Fm2HdBQgjkY7",
        "colab_type": "code",
        "colab": {}
      },
      "source": [
        "#code part 1\n",
        "from bs4 import BeautifulSoup\n",
        "import numpy as np\n",
        "import requests\n",
        "import cv2\n",
        "import PIL.Image\n",
        "import urllib\n",
        "import os\n",
        "import pandas as pd\n",
        "\n",
        "indian_page = requests.get(\"http://www.image-net.org/api/text/imagenet.synset.geturls?wnid=n02504013\")#Indian elephant synset\n",
        "print(indian_page.content)\n",
        "\n",
        "# BeautifulSoup is an HTML parsing library\n",
        "\n",
        "indian_soup = BeautifulSoup(indian_page.content, 'html.parser')#puts the content of the website into the soup variable, each url on a different line\n",
        "#print(soup)\n",
        "#print(soup.prettify())"
      ],
      "execution_count": 0,
      "outputs": []
    },
    {
      "cell_type": "code",
      "metadata": {
        "id": "wrI-fU3HkRPs",
        "colab_type": "code",
        "colab": {}
      },
      "source": [
        "#code part 1.1\n",
        "african_page = requests.get(\"http://www.image-net.org/api/text/imagenet.synset.geturls?wnid=n02504458\")#African elephant synset\n",
        "print(african_page.content)\n",
        "\n",
        "# BeautifulSoup is an HTML parsing library\n",
        "from bs4 import BeautifulSoup\n",
        "african_soup = BeautifulSoup(african_page.content, 'html.parser')#puts the content of the website into the soup variable, each url on a different line"
      ],
      "execution_count": 0,
      "outputs": []
    },
    {
      "cell_type": "code",
      "metadata": {
        "id": "hilm8bgDBSmN",
        "colab_type": "code",
        "colab": {}
      },
      "source": [
        "#code part 1.1\n",
        "tusker_page = requests.get(\"http://www.image-net.org/api/text/imagenet.synset.geturls?wnid=n01871265\")#Tusker elephant synset\n",
        "print(tusker_page.content)\n",
        "\n",
        "# BeautifulSoup is an HTML parsing library\n",
        "from bs4 import BeautifulSoup\n",
        "tusker_soup = BeautifulSoup(tusker_page.content, 'html.parser')#puts the content of the website into the soup variable, each url on a different line"
      ],
      "execution_count": 0,
      "outputs": []
    },
    {
      "cell_type": "code",
      "metadata": {
        "id": "jvp44JU0kWzD",
        "colab_type": "code",
        "colab": {}
      },
      "source": [
        "#code part 2\n",
        "str_soup=str(indian_soup)#convert soup to string so it can be split\n",
        "type(str_soup)\n",
        "split_urls=str_soup.split('\\r\\n')#split so each url is a different possition on a list\n",
        "print(len(split_urls))#print the length of the list so you know how many urls you have\n",
        "\n",
        "#code part 2.2\n",
        "african_str_soup=str(african_soup)#convert soup to string so it can be split\n",
        "type(african_str_soup)\n",
        "african_split_urls=african_str_soup.split('\\r\\n')#split so each url is a different possition on a list\n",
        "print(len(african_split_urls))\n",
        "\n",
        "#code part 2.3\n",
        "tusker_str_soup=str(tusker_soup)#convert soup to string so it can be split\n",
        "type(tusker_str_soup)\n",
        "tusker_split_urls=tusker_str_soup.split('\\r\\n')#split so each url is a different possition on a list\n",
        "print(len(tusker_split_urls))"
      ],
      "execution_count": 0,
      "outputs": []
    },
    {
      "cell_type": "markdown",
      "metadata": {
        "id": "a-8ZThdTkaK7",
        "colab_type": "text"
      },
      "source": [
        "#Make folders\n"
      ]
    },
    {
      "cell_type": "markdown",
      "metadata": {
        "id": "sXg_vOrmt_Mg",
        "colab_type": "text"
      },
      "source": [
        "![alt text](http://upscfever.com/datasets/flow_from_directory.jpeg)"
      ]
    },
    {
      "cell_type": "code",
      "metadata": {
        "id": "RvnNPUMdkciv",
        "colab_type": "code",
        "colab": {}
      },
      "source": [
        "#code part 3\n",
        "#check if all the images where stored on the files system\n",
        "!mkdir /content/train #create the Train folder\n",
        "!mkdir /content/train/indian #create the indian folder\n",
        "!mkdir /content/train/african #create the african folder\n",
        "!mkdir /content/train/tusker #create the tusker folder\n",
        "!mkdir /content/validation\n",
        "!mkdir /content/validation/indian #create the indian folder\n",
        "!mkdir /content/validation/african #create the african folder\n",
        "!mkdir /content/validation/tusker #create the tusker folder\n",
        "#!ls /content/train/ships #list the files inside ships\n",
        "!mkdir /content/test/ \n",
        "!mkdir /content/test/test #list the files inside test"
      ],
      "execution_count": 0,
      "outputs": []
    },
    {
      "cell_type": "code",
      "metadata": {
        "id": "ws5t46y-kg6X",
        "colab_type": "code",
        "colab": {}
      },
      "source": [
        "#code part 4\n",
        "img_rows, img_cols = 32, 32 #number of rows and columns to convert the images to\n",
        "input_shape = (img_rows, img_cols, 3)#format to store the images (rows, columns,channels) called channels last\n",
        "\n",
        "def url_to_image(url):\n",
        "\t# download the image, convert it to a NumPy array, and then read\n",
        "\t# it into OpenCV format\n",
        "\tresp = urllib.request.urlopen(url)\n",
        "\timage = np.asarray(bytearray(resp.read()), dtype=\"uint8\")\n",
        "\timage = cv2.imdecode(image, cv2.IMREAD_COLOR)\n",
        " \n",
        "\t# return the image\n",
        "\treturn image\n",
        "\n",
        "n_of_training_images=150#the number of training images to use\n",
        "for progress in range(n_of_training_images):#store all the images on a directory\n",
        "    # Print out progress whenever progress is a multiple of 20 so we can follow the\n",
        "    # (relatively slow) progress\n",
        "    if(progress%20==0):\n",
        "        print(progress)\n",
        "    if not split_urls[progress] == None:\n",
        "      try:\n",
        "        I = url_to_image(split_urls[progress])\n",
        "        if (len(I.shape))==3: #check if the image has width, length and channels\n",
        "          save_path = '/content/train/indian/img'+str(progress)+'.jpg'#create a name of each image\n",
        "          cv2.imwrite(save_path,I)\n",
        "\n",
        "      except:\n",
        "        None\n",
        "\n",
        "#do the same for african:\n",
        "for progress in range(n_of_training_images):#store all the images on a directory\n",
        "    # Print out progress whenever progress is a multiple of 20 so we can follow the\n",
        "    # (relatively slow) progress\n",
        "    if(progress%20==0):\n",
        "        print(progress)\n",
        "    if not african_split_urls[progress] == None:\n",
        "      try:\n",
        "        I = url_to_image(african_split_urls[progress])\n",
        "        if (len(I.shape))==3: #check if the image has width, length and channels\n",
        "          save_path = '/content/train/african/img'+str(progress)+'.jpg'#create a name of each image\n",
        "          cv2.imwrite(save_path,I)\n",
        "\n",
        "      except:\n",
        "        None\n",
        "\n",
        "#do the same for tusker:\n",
        "for progress in range(n_of_training_images):#store all the images on a directory\n",
        "    # Print out progress whenever progress is a multiple of 20 so we can follow the\n",
        "    # (relatively slow) progress\n",
        "    if(progress%20==0):\n",
        "        print(progress)\n",
        "    if not tusker_split_urls[progress] == None:\n",
        "      try:\n",
        "        I = url_to_image(tusker_split_urls[progress])\n",
        "        if (len(I.shape))==3: #check if the image has width, length and channels\n",
        "          save_path = '/content/train/tusker/img'+str(progress)+'.jpg'#create a name of each image\n",
        "          cv2.imwrite(save_path,I)\n",
        "\n",
        "      except:\n",
        "        None        \n",
        "        \n",
        "#Validation data:\n",
        "\n",
        "for progress in range(50):#store all the images on a directory\n",
        "    # Print out progress whenever progress is a multiple of 20 so we can follow the\n",
        "    # (relatively slow) progress\n",
        "    if(progress%20==0):\n",
        "        print(progress)\n",
        "    if not split_urls[progress] == None:\n",
        "      try:\n",
        "        I = url_to_image(split_urls[n_of_training_images+progress])#get images that are different from the ones used for training\n",
        "        if (len(I.shape))==3: #check if the image has width, length and channels\n",
        "          save_path = '/content/validation/indian/img'+str(progress)+'.jpg'#create a name of each image\n",
        "          cv2.imwrite(save_path,I)\n",
        "\n",
        "      except:\n",
        "        None\n",
        "\n",
        "#do the same for african:\n",
        "for progress in range(50):#store all the images on a directory\n",
        "    # Print out progress whenever progress is a multiple of 20 so we can follow the\n",
        "    # (relatively slow) progress\n",
        "    if(progress%20==0):\n",
        "        print(progress)\n",
        "    if not african_split_urls[progress] == None:\n",
        "      try:\n",
        "        I = url_to_image(african_split_urls[n_of_training_images+progress])#get images that are different from the ones used for training\n",
        "        if (len(I.shape))==3: #check if the image has width, length and channels\n",
        "          save_path = '/content/validation/african/img'+str(progress)+'.jpg'#create a name of each image\n",
        "          cv2.imwrite(save_path,I)\n",
        "\n",
        "      except:\n",
        "        None\n",
        "\n",
        "#do the same for tusker:\n",
        "for progress in range(50):#store all the images on a directory\n",
        "    # Print out progress whenever progress is a multiple of 20 so we can follow the\n",
        "    # (relatively slow) progress\n",
        "    if(progress%20==0):\n",
        "        print(progress)\n",
        "    if not tusker_split_urls[progress] == None:\n",
        "      try:\n",
        "        I = url_to_image(tusker_split_urls[n_of_training_images+progress])#get images that are different from the ones used for training\n",
        "        if (len(I.shape))==3: #check if the image has width, length and channels\n",
        "          save_path = '/content/validation/tusker/img'+str(progress)+'.jpg'#create a name of each image\n",
        "          cv2.imwrite(save_path,I)\n",
        "\n",
        "      except:\n",
        "        None\n",
        "        \n",
        "print(\"\\nTRAIN:\\n\")          \n",
        "print(\"\\nlist the files inside indian directory:\\n\")        \n",
        "!ls /content/train/indian #list the files inside ships\n",
        "print(\"\\nlist the files inside african directory:\\n\")\n",
        "!ls /content/train/african #list the files inside bikes\n",
        "print(\"\\nlist the files inside tusker directory:\\n\")\n",
        "!ls /content/train/tusker #list the files inside bikes\n",
        "print(\"\\nVALIDATION:\\n\")\n",
        "print(\"\\nlist the files inside ships directory:\\n\")        \n",
        "!ls /content/validation/indian #list the files inside ships\n",
        "print(\"\\nlist the files inside bikes directory:\\n\")\n",
        "!ls /content/validation/african #list the files inside bikes\n",
        "print(\"\\nlist the files inside tusker directory:\\n\")\n",
        "!ls /content/validation/tusker #list the files inside bikes    "
      ],
      "execution_count": 0,
      "outputs": []
    },
    {
      "cell_type": "code",
      "metadata": {
        "id": "pM40BlVhuqQF",
        "colab_type": "code",
        "colab": {}
      },
      "source": [
        "for progress in range(50):#store all the images on a directory\n",
        "    # Print out progress whenever progress is a multiple of 20 so we can follow the\n",
        "    # (relatively slow) progress\n",
        "    if(progress%20==0):\n",
        "        print(progress)\n",
        "    if not split_urls[progress] == None:\n",
        "      try:\n",
        "        I = url_to_image(split_urls[n_of_training_images+progress+50])#get images that are different from the ones used for training\n",
        "        if (len(I.shape))==3: #check if the image has width, length and channels\n",
        "          save_path = '/content/test/test/indian_'+str(progress)+'.jpg'#create a name of each image\n",
        "          cv2.imwrite(save_path,I)\n",
        "\n",
        "      except:\n",
        "        None\n",
        "\n",
        "#do the same for bikes:\n",
        "for progress in range(50):#store all the images on a directory\n",
        "    # Print out progress whenever progress is a multiple of 20 so we can follow the\n",
        "    # (relatively slow) progress\n",
        "    if(progress%20==0):\n",
        "        print(progress)\n",
        "    if not african_split_urls[progress] == None:\n",
        "      try:\n",
        "        I = url_to_image(african_split_urls[n_of_training_images+progress+50])#get images that are different from the ones used for training\n",
        "        if (len(I.shape))==3: #check if the image has width, length and channels\n",
        "          save_path = '/content/test/test/african_'+str(progress)+'.jpg'#create a name of each image\n",
        "          cv2.imwrite(save_path,I)\n",
        "\n",
        "      except:\n",
        "        None\n",
        "\n"
      ],
      "execution_count": 0,
      "outputs": []
    },
    {
      "cell_type": "code",
      "metadata": {
        "id": "PSlNCKJMGq7a",
        "colab_type": "code",
        "colab": {}
      },
      "source": [
        "# Path to the train folder\n",
        "original_test = '/content/test/test'\n",
        " \n",
        "filenames = os.listdir(original_test)\n",
        "categories = []\n",
        "for filename in filenames:\n",
        "    category = filename.split('_')[0]\n",
        "    if category == 'ships':\n",
        "        categories.append('ships')\n",
        "    else:\n",
        "        categories.append('bikes')\n",
        "\n",
        "data_test = pd.DataFrame({'filename':filenames,'label':categories})\n",
        "\n",
        "data_test.to_csv(\"original_test.csv\",index=False)"
      ],
      "execution_count": 0,
      "outputs": []
    },
    {
      "cell_type": "markdown",
      "metadata": {
        "id": "UDQRgQz_QQhF",
        "colab_type": "text"
      },
      "source": [
        "#Data augmentation"
      ]
    },
    {
      "cell_type": "code",
      "metadata": {
        "id": "2zEuli2HL8Pj",
        "colab_type": "code",
        "colab": {}
      },
      "source": [
        "from keras.models import Sequential\n",
        "from keras.layers import Conv2D, MaxPooling2D\n",
        "from keras.layers import Dropout, Flatten, Dense\n",
        "from keras.optimizers import SGD\n",
        "from keras.preprocessing.image import ImageDataGenerator\n",
        "\n",
        "train_datagen = ImageDataGenerator(\n",
        "        rescale=1./255,\n",
        "        shear_range=0.2,\n",
        "        zoom_range=0.2,\n",
        "        horizontal_flip=True)\n",
        "\n",
        "\n",
        "test_datagen = ImageDataGenerator(rescale=1./255)\n",
        "\n",
        "\n",
        "\n",
        "train_generator = train_datagen.flow_from_directory(\n",
        "    directory=r\"/content/train/\",\n",
        "    target_size=(32, 32),\n",
        "    color_mode=\"rgb\",\n",
        "    batch_size=32,\n",
        "    class_mode=\"binary\",\n",
        "    shuffle=True,\n",
        "    seed=42\n",
        ")\n",
        "\n",
        "valid_generator = test_datagen.flow_from_directory(\n",
        "    directory=r\"/content/validation/\",\n",
        "    target_size=(32, 32),\n",
        "    color_mode=\"rgb\",\n",
        "    batch_size=32,\n",
        "    class_mode=\"binary\",\n",
        "    shuffle=True,\n",
        "    seed=42\n",
        ")\n",
        "\n",
        "test_generator = test_datagen.flow_from_directory(\n",
        "    directory=\"/content/test/\",\n",
        "    target_size=(32, 32),\n",
        "    color_mode=\"rgb\",\n",
        "    batch_size=1,\n",
        "    class_mode=None,\n",
        "    shuffle=False,\n",
        "    seed=42\n",
        ")"
      ],
      "execution_count": 0,
      "outputs": []
    },
    {
      "cell_type": "markdown",
      "metadata": {
        "id": "YD-cSPUPM8Hy",
        "colab_type": "text"
      },
      "source": [
        "#Fit the model"
      ]
    },
    {
      "cell_type": "code",
      "metadata": {
        "id": "Ypt-5dZnM7hT",
        "colab_type": "code",
        "colab": {}
      },
      "source": [
        "from keras.utils.np_utils import to_categorical\n",
        "from keras import models\n",
        "from keras.datasets import cifar10\n",
        "from keras.layers import Dense, Dropout\n",
        "from keras.models import Sequential\n",
        "from keras.layers import Activation, Flatten, Conv2D\n",
        "from keras.utils import to_categorical\n",
        "from keras.datasets import mnist\n",
        "from keras.utils.vis_utils import model_to_dot\n",
        "from IPython.display import SVG\n",
        "from keras.preprocessing.image import ImageDataGenerator\n",
        "\n",
        "STEP_SIZE_TRAIN=train_generator.n//train_generator.batch_size\n",
        "STEP_SIZE_VALID=valid_generator.n//valid_generator.batch_size\n",
        "\n",
        "\n",
        "\n",
        "model = Sequential()\n",
        "#We need to use a Conv2D layer at start of the neural network \n",
        "#the syntax is Conv2D(1, (image_width,image_height), padding=\"valid\", activation=\"relu\", input_shape=X_train.shape[1:])\n",
        "#the we add a flatten layer\n",
        "model.add(Conv2D(512, (32, 32), padding=\"valid\", activation=\"relu\", input_shape=(32, 32, 3)))\n",
        "model.add(Flatten())\n",
        "model.add(Dense(512))\n",
        "model.add(Activation('relu'))\n",
        "model.add(Dense(1))\n",
        "model.add(Activation('sigmoid'))\n",
        "\n",
        "model.compile(loss='binary_crossentropy',\n",
        "                  optimizer='adam',\n",
        "                  metrics=['accuracy'])\n",
        "\n",
        "\n",
        "model.fit_generator(generator=train_generator,\n",
        "                    steps_per_epoch=STEP_SIZE_TRAIN,\n",
        "                    validation_data=valid_generator,\n",
        "                    validation_steps=STEP_SIZE_VALID,\n",
        "                    epochs=10)"
      ],
      "execution_count": 0,
      "outputs": []
    },
    {
      "cell_type": "markdown",
      "metadata": {
        "id": "wxslFZBwNQEo",
        "colab_type": "text"
      },
      "source": [
        "#Evaluate the model"
      ]
    },
    {
      "cell_type": "code",
      "metadata": {
        "id": "URNPeVz1NRJB",
        "colab_type": "code",
        "colab": {}
      },
      "source": [
        "model.evaluate_generator(generator=valid_generator, steps=STEP_SIZE_VALID)"
      ],
      "execution_count": 0,
      "outputs": []
    },
    {
      "cell_type": "markdown",
      "metadata": {
        "id": "crqtzRl9X2lZ",
        "colab_type": "text"
      },
      "source": [
        "#Measure the performance on validation set"
      ]
    },
    {
      "cell_type": "code",
      "metadata": {
        "id": "AfKjajYHX5Q2",
        "colab_type": "code",
        "colab": {}
      },
      "source": [
        "from sklearn.metrics import roc_auc_score\n",
        "\n",
        "# AUC for prediction on validation sample\n",
        "X_val_sample, val_labels = next(valid_generator)\n",
        "val_pred = model.predict_proba(X_val_sample)\n",
        "val_pred = np.reshape(val_pred, val_labels.shape)\n",
        "val_score_auc = roc_auc_score(val_labels, val_pred)\n",
        "print (\"AUC validation score\")\n",
        "print (val_score_auc)\n",
        "print ('\\n')"
      ],
      "execution_count": 0,
      "outputs": []
    },
    {
      "cell_type": "markdown",
      "metadata": {
        "id": "yqoCLUOfNkom",
        "colab_type": "text"
      },
      "source": [
        "#Predict the output"
      ]
    },
    {
      "cell_type": "code",
      "metadata": {
        "id": "1Fxju6FFNmb1",
        "colab_type": "code",
        "colab": {}
      },
      "source": [
        "import pandas as pd\n",
        "\n",
        "STEP_SIZE_TEST=test_generator.n//test_generator.batch_size\n",
        "test_generator.reset()\n",
        "pred=model.predict_generator(test_generator,\n",
        "steps=STEP_SIZE_TEST,\n",
        "verbose=1)\n",
        "\n",
        "predicted_class_indices=np.argmax(pred,axis=1)\n",
        "\n",
        "labels = (train_generator.class_indices)\n",
        "labels = dict((v,k) for k,v in labels.items())\n",
        "predictions = [labels[k] for k in predicted_class_indices]\n",
        "\n",
        "filenames=test_generator.filenames\n",
        "results=pd.DataFrame({\"Filename\":filenames,\n",
        "                      \"Predictions\":predictions})\n",
        "results.to_csv(\"results.csv\",index=False)"
      ],
      "execution_count": 0,
      "outputs": []
    },
    {
      "cell_type": "markdown",
      "metadata": {
        "id": "ncYBMddc-Qxq",
        "colab_type": "text"
      },
      "source": [
        "#Confusion matrix"
      ]
    },
    {
      "cell_type": "code",
      "metadata": {
        "id": "70xW8TGA-Sns",
        "colab_type": "code",
        "colab": {}
      },
      "source": [
        "from sklearn.metrics import confusion_matrix\n",
        "import seaborn as sn\n",
        "import pandas as pd\n",
        "import matplotlib.pyplot as plt\n",
        "\n",
        "cm=confusion_matrix(data_test['label'],results['Predictions'])\n",
        "\n",
        "sn.set(font_scale=1.4) # for label size\n",
        "sn.heatmap(cm, annot=True, annot_kws={\"size\": 16}) # font size\n",
        "\n",
        "plt.show()\n"
      ],
      "execution_count": 0,
      "outputs": []
    },
    {
      "cell_type": "markdown",
      "metadata": {
        "id": "YFVzBJEj5sBO",
        "colab_type": "text"
      },
      "source": [
        "#Thank you for completing the notebook"
      ]
    },
    {
      "cell_type": "code",
      "metadata": {
        "id": "lzhGkz9BGYxm",
        "colab_type": "code",
        "colab": {}
      },
      "source": [
        ""
      ],
      "execution_count": 0,
      "outputs": []
    }
  ]
}