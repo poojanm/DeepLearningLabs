{
  "nbformat": 4,
  "nbformat_minor": 0,
  "metadata": {
    "colab": {
      "name": "Lab6B-J063.ipynb",
      "provenance": [],
      "private_outputs": true
    },
    "kernelspec": {
      "name": "python3",
      "display_name": "Python 3"
    }
  },
  "cells": [
    {
      "cell_type": "markdown",
      "metadata": {
        "id": "-qGLrDE4pn8P",
        "colab_type": "text"
      },
      "source": [
        "#Keras layers\n",
        "\n",
        "The building blocks for neural network architectures"
      ]
    },
    {
      "cell_type": "markdown",
      "metadata": {
        "id": "RZHeMOJVp8Ui",
        "colab_type": "text"
      },
      "source": [
        "#Download dataset\n",
        "\n",
        "In this Keras tutorial, we are going to use the Pima Indians onset of diabetes dataset. This is a standard machine learning dataset from the UCI Machine Learning repository. It describes patient medical record data for Pima Indians and whether they had an onset of diabetes within five years.\n",
        "\n",
        "As such, it is a binary classification problem (onset of diabetes as 1 or not as 0). All of the input variables that describe each patient are numerical. This makes it easy to use directly with neural networks that expect numerical input and output values, and ideal for our first neural network in Keras."
      ]
    },
    {
      "cell_type": "code",
      "metadata": {
        "id": "oycfI2SLnukE",
        "colab_type": "code",
        "colab": {}
      },
      "source": [
        "\n",
        "!wget  http://upscfever.com/datasets/pima-indians-diabetes.data.csv  -P drive/app\n"
      ],
      "execution_count": 0,
      "outputs": []
    },
    {
      "cell_type": "markdown",
      "metadata": {
        "id": "kGUV1OVTqDZD",
        "colab_type": "text"
      },
      "source": [
        "#Load libraries\n",
        "\n",
        "We can now load the file as a matrix of numbers using the NumPy function loadtxt().\n",
        "\n",
        "There are eight input variables and one output variable (the last column). We will be learning a model to map rows of input variables (X) to an output variable (y), which we often summarize as y = f(X).\n",
        "\n",
        "The variables can be summarized as follows:\n",
        "\n",
        "Input Variables (X):\n",
        "\n",
        "1. Number of times pregnant\n",
        "2. Plasma glucose concentration a 2 hours in an oral glucose tolerance test\n",
        "3. Diastolic blood pressure (mm Hg)\n",
        "4. Triceps skin fold thickness (mm)\n",
        "5. 2-Hour serum insulin (mu U/ml)\n",
        "6. Body mass index (weight in kg/(height in m)^2)\n",
        "7. Diabetes pedigree function\n",
        "8. Age (years)\n",
        "\n",
        "Output Variables (y):\n",
        "\n",
        "Class variable (0 or 1)\n"
      ]
    },
    {
      "cell_type": "code",
      "metadata": {
        "id": "ShIacRG-pdej",
        "colab_type": "code",
        "colab": {}
      },
      "source": [
        "import pandas as pd\n",
        "import numpy as np\n",
        "from numpy import loadtxt\n",
        "import keras\n",
        "from keras.models import Sequential\n",
        "from keras.layers import Dense\n",
        "dataset = loadtxt('drive/app/pima-indians-diabetes.data.csv', delimiter=',')\n",
        "# split into input (X) and output (y) variables\n",
        "X = dataset[:,0:8]\n",
        "y = dataset[:,8]"
      ],
      "execution_count": 0,
      "outputs": []
    },
    {
      "cell_type": "markdown",
      "metadata": {
        "id": "1i0X9CY-qaaq",
        "colab_type": "text"
      },
      "source": [
        "#Define keras model\n",
        "\n",
        "##Dense layer\n",
        "\n",
        "```\n",
        "keras.layers.Dense(units, activation=None, use_bias=True, kernel_initializer='glorot_uniform', bias_initializer='zeros', kernel_regularizer=None, bias_regularizer=None, activity_regularizer=None, kernel_constraint=None, bias_constraint=None)\n",
        "```\n",
        "\n",
        "Just your regular densely-connected NN layer.\n",
        "\n",
        "Dense implements the operation: output = activation(dot(input, kernel) + bias) where activation is the element-wise activation function passed as the activation argument, kernel is a weights matrix created by the layer, and bias is a bias vector created by the layer (only applicable if use_bias is True).\n",
        "\n",
        "Note: if the input to the layer has a rank greater than 2, then it is flattened prior to the initial dot product with kernel.\n",
        "\n",
        "Arguments\n",
        "\n",
        "1. units: Positive integer, dimensionality of the output space.\n",
        "2. activation: Activation function to use (see activations). If you don't specify anything, no activation is applied (ie. \"linear\" activation: a(x) = x).\n",
        "3. use_bias: Boolean, whether the layer uses a bias vector.\n",
        "4. kernel_initializer: Initializer for the kernel weights matrix (see initializers).\n",
        "5. bias_initializer: Initializer for the bias vector (see initializers).\n",
        "6. kernel_regularizer: Regularizer function applied to the kernel weights matrix (see regularizer).\n",
        "7. bias_regularizer: Regularizer function applied to the bias vector (see regularizer).\n",
        "8. activity_regularizer: Regularizer function applied to the output of the layer (its \"activation\"). (see regularizer).\n",
        "9. kernel_constraint: Constraint function applied to the kernel weights matrix (see constraints).\n",
        "10. bias_constraint: Constraint function applied to the bias vector (see constraints)."
      ]
    },
    {
      "cell_type": "code",
      "metadata": {
        "id": "IoFq8ywRqceh",
        "colab_type": "code",
        "colab": {}
      },
      "source": [
        "# define the keras model\n",
        "model = Sequential()\n",
        "model.add(Dense(units=12, input_dim=8, activation='relu', use_bias=True, kernel_initializer='glorot_uniform', bias_initializer='zeros', kernel_regularizer=keras.regularizers.l1_l2(l1=0.01, l2=0.01), bias_regularizer=keras.regularizers.l1_l2(l1=0.01, l2=0.01), activity_regularizer=keras.regularizers.l1_l2(l1=0.01, l2=0.01), kernel_constraint=keras.constraints.MinMaxNorm(min_value=0.0, max_value=1.0, rate=1.0, axis=0), bias_constraint=keras.constraints.MinMaxNorm(min_value=0.0, max_value=1.0, rate=1.0, axis=0)))\n",
        "model.add(Dense(units=8, activation='relu', use_bias=True, kernel_initializer='glorot_uniform', bias_initializer='zeros', kernel_regularizer=keras.regularizers.l1_l2(l1=0.01, l2=0.01), bias_regularizer=keras.regularizers.l1_l2(l1=0.01, l2=0.01), activity_regularizer=keras.regularizers.l1_l2(l1=0.01, l2=0.01), kernel_constraint=keras.constraints.MinMaxNorm(min_value=0.0, max_value=1.0, rate=1.0, axis=0), bias_constraint=keras.constraints.MinMaxNorm(min_value=0.0, max_value=1.0, rate=1.0, axis=0)))\n",
        "model.add(Dense(units=1, activation='sigmoid', kernel_initializer='glorot_uniform', bias_initializer='zeros', kernel_regularizer=keras.regularizers.l1_l2(l1=0.01, l2=0.01), bias_regularizer=keras.regularizers.l1_l2(l1=0.01, l2=0.01), activity_regularizer=keras.regularizers.l1_l2(l1=0.01, l2=0.01), kernel_constraint=keras.constraints.MinMaxNorm(min_value=0.0, max_value=1.0, rate=1.0, axis=0), bias_constraint=keras.constraints.MinMaxNorm(min_value=0.0, max_value=1.0, rate=1.0, axis=0)))"
      ],
      "execution_count": 0,
      "outputs": []
    },
    {
      "cell_type": "markdown",
      "metadata": {
        "id": "fu_8Z0x6sbE3",
        "colab_type": "text"
      },
      "source": [
        "#Dense layers\n",
        "\n",
        "Above code:\n",
        "\n",
        "1. The model expects rows of data with 8 variables (the input_dim=8 argument)\n",
        "2. The first hidden layer has 12 nodes and uses the relu activation function.\n",
        "3. The second hidden layer has 8 nodes and uses the relu activation function.\n",
        "4. The output layer has one node and uses the sigmoid activation function."
      ]
    },
    {
      "cell_type": "markdown",
      "metadata": {
        "id": "SL4gN-VMqzTk",
        "colab_type": "text"
      },
      "source": [
        "#Model compile"
      ]
    },
    {
      "cell_type": "code",
      "metadata": {
        "id": "FRWDG3XMtKMA",
        "colab_type": "code",
        "colab": {}
      },
      "source": [
        "# compile the keras model\n",
        "model.compile(loss='binary_crossentropy', optimizer='adam', metrics=['accuracy'])"
      ],
      "execution_count": 0,
      "outputs": []
    },
    {
      "cell_type": "markdown",
      "metadata": {
        "id": "cvCMp556tNZw",
        "colab_type": "text"
      },
      "source": [
        "#Fit Keras Model"
      ]
    },
    {
      "cell_type": "code",
      "metadata": {
        "id": "BnvfSSNktSIR",
        "colab_type": "code",
        "colab": {}
      },
      "source": [
        "# fit the keras model on the dataset\n",
        "model.fit(X, y, epochs=150, batch_size=10)"
      ],
      "execution_count": 0,
      "outputs": []
    },
    {
      "cell_type": "markdown",
      "metadata": {
        "id": "OYOV62LqtUMY",
        "colab_type": "text"
      },
      "source": [
        "#Evaluate Keras Model"
      ]
    },
    {
      "cell_type": "code",
      "metadata": {
        "id": "EvnxnPIgtWWh",
        "colab_type": "code",
        "colab": {}
      },
      "source": [
        "# evaluate the keras model\n",
        "_, accuracy = model.evaluate(X, y)\n",
        "print('Accuracy: %.2f' % (accuracy*100))"
      ],
      "execution_count": 0,
      "outputs": []
    },
    {
      "cell_type": "markdown",
      "metadata": {
        "id": "jXn6vvh3uhya",
        "colab_type": "text"
      },
      "source": [
        "#Thank you for completing this notebook"
      ]
    }
  ]
}